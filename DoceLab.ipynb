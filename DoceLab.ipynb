{
  "nbformat": 4,
  "nbformat_minor": 0,
  "metadata": {
    "colab": {
      "provenance": [],
      "include_colab_link": true
    },
    "kernelspec": {
      "name": "python3",
      "display_name": "Python 3"
    },
    "language_info": {
      "name": "python"
    }
  },
  "cells": [
    {
      "cell_type": "markdown",
      "metadata": {
        "id": "view-in-github",
        "colab_type": "text"
      },
      "source": [
        "<a href=\"https://colab.research.google.com/github/Lua-shift/DoceLab/blob/main/DoceLab.ipynb\" target=\"_parent\"><img src=\"https://colab.research.google.com/assets/colab-badge.svg\" alt=\"Open In Colab\"/></a>"
      ]
    },
    {
      "cell_type": "code",
      "source": [
        "%pip -q install google-genai"
      ],
      "metadata": {
        "id": "UCCbECexLk_h"
      },
      "execution_count": 27,
      "outputs": []
    },
    {
      "cell_type": "code",
      "source": [
        "# Configura a API Key do Google Gemini\n",
        "\n",
        "import os\n",
        "from google.colab import userdata\n",
        "\n",
        "os.environ[\"GOOGLE_API_KEY\"] = userdata.get('GOOGLE_API_KEY')"
      ],
      "metadata": {
        "id": "NfCqHo1tLk8P"
      },
      "execution_count": 28,
      "outputs": []
    },
    {
      "cell_type": "code",
      "source": [
        "# Configura o cliente da SDK do Gemini\n",
        "\n",
        "from google import genai\n",
        "\n",
        "client = genai.Client()\n",
        "\n",
        "MODEL_ID = \"gemini-2.0-flash\""
      ],
      "metadata": {
        "id": "bV4w0H5TLk5g"
      },
      "execution_count": 29,
      "outputs": []
    },
    {
      "cell_type": "code",
      "source": [
        "# Pergunta ao Gemini uma informação mais recente que seu conhecimento\n",
        "\n",
        "from IPython.display import HTML, Markdown\n",
        "\n",
        "# Perguntar pro modelo quando é a próxima imersão de IA ###############################################\n",
        "resposta = client.models.generate_content(\n",
        "    model=MODEL_ID,\n",
        "    contents='Quem foi Carrême?',\n",
        ")\n",
        "\n",
        "# Exibe a resposta na tela\n",
        "display(Markdown(f\"Resposta:\\n {resposta.text}\"))"
      ],
      "metadata": {
        "id": "HwVP7Xi34Zuw",
        "colab": {
          "base_uri": "https://localhost:8080/",
          "height": 284
        },
        "outputId": "b646ee85-9023-4079-8a47-6d15689ad097"
      },
      "execution_count": 31,
      "outputs": [
        {
          "output_type": "display_data",
          "data": {
            "text/plain": [
              "<IPython.core.display.Markdown object>"
            ],
            "text/markdown": "Resposta:\n Marie-Antoine Carême, conhecido simplesmente como Antonin Carême, foi um chef de cozinha francês, considerado um dos fundadores da alta cozinha francesa. Ele viveu entre 1784 e 1833 e é reverenciado por suas contribuições revolucionárias para a gastronomia, incluindo:\n\n*   **Criação do conceito de \"alta cozinha\":** Carême elevou a culinária a um nível de arte e sofisticação nunca antes visto, estabelecendo padrões de técnica, apresentação e serviço que influenciaram a culinária mundial.\n*   **Padronização de receitas e técnicas:** Ele sistematizou receitas e técnicas culinárias, registrando-as detalhadamente em seus livros, o que facilitou a transmissão do conhecimento e o aprimoramento da cozinha.\n*   **Desenvolvimento de molhos básicos (\"molhos mãe\"):** Carême identificou e codificou os molhos básicos da cozinha francesa, a partir dos quais inúmeras variações poderiam ser criadas. Isso proporcionou uma base sólida para a culinária e permitiu maior criatividade e consistência.\n*   **Arquitetura comestível:** Carême era famoso por suas elaboradas decorações e esculturas comestíveis, que adornavam banquetes e demonstrações de sua habilidade e talento artístico.\n*   **Influência em cozinhas reais e aristocráticas:** Ele trabalhou para figuras importantes como o Príncipe de Gales (futuro Rei George IV), o Czar Alexandre I da Rússia e o Barão James Mayer de Rothschild, disseminando seu estilo culinário entre a elite europeia.\n\nEm resumo, Antonin Carême foi um pioneiro que transformou a culinária em uma arte, estabelecendo os fundamentos da alta cozinha francesa e influenciando chefs e cozinheiros em todo o mundo."
          },
          "metadata": {}
        }
      ]
    },
    {
      "cell_type": "code",
      "source": [
        "# Pergunta ao Gemini uma informação utilizando a busca do Google como contexto\n",
        "\n",
        "response = client.models.generate_content(\n",
        "    model=MODEL_ID,\n",
        "    contents='Quem foi Carrême?',\n",
        "    config={'tools':[{'google_search': {}}]}\n",
        ")\n",
        "\n",
        "# Exibe a resposta na tela\n",
        "display(Markdown(f\"Resposta:\\n {response.text}\"))"
      ],
      "metadata": {
        "id": "yXaZd7iZ4ftw",
        "colab": {
          "base_uri": "https://localhost:8080/",
          "height": 122
        },
        "outputId": "4a5e2450-df89-4414-f1b9-b4ad890748ff"
      },
      "execution_count": 32,
      "outputs": [
        {
          "output_type": "display_data",
          "data": {
            "text/plain": [
              "<IPython.core.display.Markdown object>"
            ],
            "text/markdown": "Resposta:\n Marie-Antoine Carême (1783-1833), também conhecido como Antonin Carême, foi um renomado chef de cozinha francês e ideólogo gastronômico. Ele é amplamente reconhecido por ter simplificado e codificado o estilo de culinária conhecido como haute cuisine, ou alta gastronomia francesa, que se tornou o centro da culinária da França.\n\nCarême foi um chef muito solicitado pela alta sociedade e realeza europeia e também escreveu livros de cozinha célebres, introduzindo o chapéu de cozinheiro. Por conta disso, ele é considerado o primeiro chef \"celebridade\".\n"
          },
          "metadata": {}
        }
      ]
    },
    {
      "cell_type": "code",
      "source": [
        "# Exibe a busca\n",
        "print(f\"Busca realizada: {response.candidates[0].grounding_metadata.web_search_queries}\")\n",
        "# Exibe as URLs nas quais ele se baseou\n",
        "print(f\"Páginas utilizadas na resposta: {', '.join([site.web.title for site in response.candidates[0].grounding_metadata.grounding_chunks])}\")\n",
        "print()\n",
        "display(HTML(response.candidates[0].grounding_metadata.search_entry_point.rendered_content))"
      ],
      "metadata": {
        "id": "xHSNlTd84heJ",
        "colab": {
          "base_uri": "https://localhost:8080/",
          "height": 117
        },
        "outputId": "9a104990-95fc-48d6-b24b-1480bfdb085f"
      },
      "execution_count": 33,
      "outputs": [
        {
          "output_type": "stream",
          "name": "stdout",
          "text": [
            "Busca realizada: ['Quem foi Carrême?', 'Antonim Carême']\n",
            "Páginas utilizadas na resposta: wikipedia.org, nationalgeographic.pt, sobremesah.com, uol.com.br, youtube.com, bbc.com\n",
            "\n"
          ]
        },
        {
          "output_type": "display_data",
          "data": {
            "text/plain": [
              "<IPython.core.display.HTML object>"
            ],
            "text/html": [
              "<style>\n",
              ".container {\n",
              "  align-items: center;\n",
              "  border-radius: 8px;\n",
              "  display: flex;\n",
              "  font-family: Google Sans, Roboto, sans-serif;\n",
              "  font-size: 14px;\n",
              "  line-height: 20px;\n",
              "  padding: 8px 12px;\n",
              "}\n",
              ".chip {\n",
              "  display: inline-block;\n",
              "  border: solid 1px;\n",
              "  border-radius: 16px;\n",
              "  min-width: 14px;\n",
              "  padding: 5px 16px;\n",
              "  text-align: center;\n",
              "  user-select: none;\n",
              "  margin: 0 8px;\n",
              "  -webkit-tap-highlight-color: transparent;\n",
              "}\n",
              ".carousel {\n",
              "  overflow: auto;\n",
              "  scrollbar-width: none;\n",
              "  white-space: nowrap;\n",
              "  margin-right: -12px;\n",
              "}\n",
              ".headline {\n",
              "  display: flex;\n",
              "  margin-right: 4px;\n",
              "}\n",
              ".gradient-container {\n",
              "  position: relative;\n",
              "}\n",
              ".gradient {\n",
              "  position: absolute;\n",
              "  transform: translate(3px, -9px);\n",
              "  height: 36px;\n",
              "  width: 9px;\n",
              "}\n",
              "@media (prefers-color-scheme: light) {\n",
              "  .container {\n",
              "    background-color: #fafafa;\n",
              "    box-shadow: 0 0 0 1px #0000000f;\n",
              "  }\n",
              "  .headline-label {\n",
              "    color: #1f1f1f;\n",
              "  }\n",
              "  .chip {\n",
              "    background-color: #ffffff;\n",
              "    border-color: #d2d2d2;\n",
              "    color: #5e5e5e;\n",
              "    text-decoration: none;\n",
              "  }\n",
              "  .chip:hover {\n",
              "    background-color: #f2f2f2;\n",
              "  }\n",
              "  .chip:focus {\n",
              "    background-color: #f2f2f2;\n",
              "  }\n",
              "  .chip:active {\n",
              "    background-color: #d8d8d8;\n",
              "    border-color: #b6b6b6;\n",
              "  }\n",
              "  .logo-dark {\n",
              "    display: none;\n",
              "  }\n",
              "  .gradient {\n",
              "    background: linear-gradient(90deg, #fafafa 15%, #fafafa00 100%);\n",
              "  }\n",
              "}\n",
              "@media (prefers-color-scheme: dark) {\n",
              "  .container {\n",
              "    background-color: #1f1f1f;\n",
              "    box-shadow: 0 0 0 1px #ffffff26;\n",
              "  }\n",
              "  .headline-label {\n",
              "    color: #fff;\n",
              "  }\n",
              "  .chip {\n",
              "    background-color: #2c2c2c;\n",
              "    border-color: #3c4043;\n",
              "    color: #fff;\n",
              "    text-decoration: none;\n",
              "  }\n",
              "  .chip:hover {\n",
              "    background-color: #353536;\n",
              "  }\n",
              "  .chip:focus {\n",
              "    background-color: #353536;\n",
              "  }\n",
              "  .chip:active {\n",
              "    background-color: #464849;\n",
              "    border-color: #53575b;\n",
              "  }\n",
              "  .logo-light {\n",
              "    display: none;\n",
              "  }\n",
              "  .gradient {\n",
              "    background: linear-gradient(90deg, #1f1f1f 15%, #1f1f1f00 100%);\n",
              "  }\n",
              "}\n",
              "</style>\n",
              "<div class=\"container\">\n",
              "  <div class=\"headline\">\n",
              "    <svg class=\"logo-light\" width=\"18\" height=\"18\" viewBox=\"9 9 35 35\" fill=\"none\" xmlns=\"http://www.w3.org/2000/svg\">\n",
              "      <path fill-rule=\"evenodd\" clip-rule=\"evenodd\" d=\"M42.8622 27.0064C42.8622 25.7839 42.7525 24.6084 42.5487 23.4799H26.3109V30.1568H35.5897C35.1821 32.3041 33.9596 34.1222 32.1258 35.3448V39.6864H37.7213C40.9814 36.677 42.8622 32.2571 42.8622 27.0064V27.0064Z\" fill=\"#4285F4\"/>\n",
              "      <path fill-rule=\"evenodd\" clip-rule=\"evenodd\" d=\"M26.3109 43.8555C30.9659 43.8555 34.8687 42.3195 37.7213 39.6863L32.1258 35.3447C30.5898 36.3792 28.6306 37.0061 26.3109 37.0061C21.8282 37.0061 18.0195 33.9811 16.6559 29.906H10.9194V34.3573C13.7563 39.9841 19.5712 43.8555 26.3109 43.8555V43.8555Z\" fill=\"#34A853\"/>\n",
              "      <path fill-rule=\"evenodd\" clip-rule=\"evenodd\" d=\"M16.6559 29.8904C16.3111 28.8559 16.1074 27.7588 16.1074 26.6146C16.1074 25.4704 16.3111 24.3733 16.6559 23.3388V18.8875H10.9194C9.74388 21.2072 9.06992 23.8247 9.06992 26.6146C9.06992 29.4045 9.74388 32.022 10.9194 34.3417L15.3864 30.8621L16.6559 29.8904V29.8904Z\" fill=\"#FBBC05\"/>\n",
              "      <path fill-rule=\"evenodd\" clip-rule=\"evenodd\" d=\"M26.3109 16.2386C28.85 16.2386 31.107 17.1164 32.9095 18.8091L37.8466 13.8719C34.853 11.082 30.9659 9.3736 26.3109 9.3736C19.5712 9.3736 13.7563 13.245 10.9194 18.8875L16.6559 23.3388C18.0195 19.2636 21.8282 16.2386 26.3109 16.2386V16.2386Z\" fill=\"#EA4335\"/>\n",
              "    </svg>\n",
              "    <svg class=\"logo-dark\" width=\"18\" height=\"18\" viewBox=\"0 0 48 48\" xmlns=\"http://www.w3.org/2000/svg\">\n",
              "      <circle cx=\"24\" cy=\"23\" fill=\"#FFF\" r=\"22\"/>\n",
              "      <path d=\"M33.76 34.26c2.75-2.56 4.49-6.37 4.49-11.26 0-.89-.08-1.84-.29-3H24.01v5.99h8.03c-.4 2.02-1.5 3.56-3.07 4.56v.75l3.91 2.97h.88z\" fill=\"#4285F4\"/>\n",
              "      <path d=\"M15.58 25.77A8.845 8.845 0 0 0 24 31.86c1.92 0 3.62-.46 4.97-1.31l4.79 3.71C31.14 36.7 27.65 38 24 38c-5.93 0-11.01-3.4-13.45-8.36l.17-1.01 4.06-2.85h.8z\" fill=\"#34A853\"/>\n",
              "      <path d=\"M15.59 20.21a8.864 8.864 0 0 0 0 5.58l-5.03 3.86c-.98-2-1.53-4.25-1.53-6.64 0-2.39.55-4.64 1.53-6.64l1-.22 3.81 2.98.22 1.08z\" fill=\"#FBBC05\"/>\n",
              "      <path d=\"M24 14.14c2.11 0 4.02.75 5.52 1.98l4.36-4.36C31.22 9.43 27.81 8 24 8c-5.93 0-11.01 3.4-13.45 8.36l5.03 3.85A8.86 8.86 0 0 1 24 14.14z\" fill=\"#EA4335\"/>\n",
              "    </svg>\n",
              "    <div class=\"gradient-container\"><div class=\"gradient\"></div></div>\n",
              "  </div>\n",
              "  <div class=\"carousel\">\n",
              "    <a class=\"chip\" href=\"https://vertexaisearch.cloud.google.com/grounding-api-redirect/AbF9wXFjkLQGtlIzqcV_KTIT2teAanLXd42dGTf5tYkjmhutdqanoBKgwmDx3zCTdOWijSdMKy7CWdgiUzrVqcO32h0bKVw-4rnu_DCuhx92Q65l0Jeeqh4PrgI6zr2C9sDprSkTcpd5FvMc1iWQYVBlkXPCxHkT5hvrDm7bwnN-Pl1oVLv76oPBunnfKAACaMlu5Ihhwkiq0v7Ty5dnQw==\">Quem foi Carrême?</a>\n",
              "    <a class=\"chip\" href=\"https://vertexaisearch.cloud.google.com/grounding-api-redirect/AbF9wXFge5WoDJtSWgz1-x_WNpXGzbas-g_H_HR7tL0yiXA0Nd2eyvOV5Sgex3KAUI2EUw6KBXW5iicD41V0Hf6Glz2kdKjWLn0W-W-qnczynN0ERnO5l6CpLN9YjExEKdCx6uisuoiWIIlKga2pzqY_AG2eqF7lKAqRWW_SGqI2Tt_TIs0ic7bZP5aL_Is82rV-LgrXUyrhtUM=\">Antonim Carême</a>\n",
              "  </div>\n",
              "</div>\n"
            ]
          },
          "metadata": {}
        }
      ]
    },
    {
      "cell_type": "code",
      "source": [
        "# Instalar Framework ADK de agentes do Google ################################################\n",
        "!pip -q install google-adk"
      ],
      "metadata": {
        "id": "hvZ3UnPI4jhJ"
      },
      "execution_count": 34,
      "outputs": []
    },
    {
      "cell_type": "code",
      "execution_count": 12,
      "metadata": {
        "id": "aePV2bdfDeoW"
      },
      "outputs": [],
      "source": [
        "from google.adk.agents import Agent\n",
        "from google.adk.runners import Runner\n",
        "from google.adk.sessions import InMemorySessionService\n",
        "from google.adk.tools import google_search\n",
        "from google.genai import types  # Para criar conteúdos (Content e Part)\n",
        "from datetime import date\n",
        "import textwrap # Para formatar melhor a saída de texto\n",
        "from IPython.display import display, Markdown # Para exibir texto formatado no Colab\n",
        "import requests # Para fazer requisições HTTP\n",
        "import warnings\n",
        "\n",
        "warnings.filterwarnings(\"ignore\")"
      ]
    },
    {
      "cell_type": "code",
      "source": [
        "# Função auxiliar que envia uma mensagem para um agente via Runner e retorna a resposta final\n",
        "def call_agent(agent: Agent, message_text: str) -> str:\n",
        "    # Cria um serviço de sessão em memória\n",
        "    session_service = InMemorySessionService()\n",
        "    # Cria uma nova sessão (você pode personalizar os IDs conforme necessário)\n",
        "    session = session_service.create_session(app_name=agent.name, user_id=\"user1\", session_id=\"session1\")\n",
        "    # Cria um Runner para o agente\n",
        "    runner = Runner(agent=agent, app_name=agent.name, session_service=session_service)\n",
        "    # Cria o conteúdo da mensagem de entrada\n",
        "    content = types.Content(role=\"user\", parts=[types.Part(text=message_text)])\n",
        "\n",
        "    final_response = \"\"\n",
        "    # Itera assincronamente pelos eventos retornados durante a execução do agente\n",
        "    for event in runner.run(user_id=\"user1\", session_id=\"session1\", new_message=content):\n",
        "        if event.is_final_response():\n",
        "          for part in event.content.parts:\n",
        "            if part.text is not None:\n",
        "              final_response += part.text\n",
        "              final_response += \"\\n\"\n",
        "    return final_response"
      ],
      "metadata": {
        "id": "_xP4lWhsS5ko"
      },
      "execution_count": 35,
      "outputs": []
    },
    {
      "cell_type": "code",
      "source": [
        "# Função auxiliar para exibir texto formatado em Markdown no Colab\n",
        "def to_markdown(text):\n",
        "  text = text.replace('•', '  *')\n",
        "  return Markdown(textwrap.indent(text, '> ', predicate=lambda _: True))"
      ],
      "metadata": {
        "id": "8dosiodaxfFR"
      },
      "execution_count": 36,
      "outputs": []
    },
    {
      "cell_type": "code",
      "source": [
        "##########################################\n",
        "# --- Agente 1: Buscador de Notícias --- #\n",
        "##########################################\n",
        "def agente_buscador(topico):\n",
        "    buscador = Agent(\n",
        "        name=\"agente_buscador\",\n",
        "        model=\"gemini-2.0-flash\",\n",
        "        description=\"Agente que busca soluções na web para problemas de confeitaria\",\n",
        "        tools=[google_search],\n",
        "        instruction=\"\"\"\n",
        "        Você é um assistente de pesquisa. A sua tarefa é usar a ferramenta de busca do google (google_search)\n",
        "        para encontrar informações e tópicos relacionados aos erros mais frequentes cometidos em receitas de confeitaria\n",
        "        e panificação muito relevantes sobre o tópico abaixo.\n",
        "        Pesquise em sites confiáveis de culinária (como Panelinha, Tastemade, CyberCook, GNT, etc.),\n",
        "        fóruns especializados ou pdfs e apostilas de confeitaria e panificação.\n",
        "        O objetivo é ajudar a montar um diagnóstico técnico e uma receita de correção para esse erro,\n",
        "        usando termos simples e aplicáveis para confeiteiros iniciantes.\n",
        "        Foque no pergunta feita pelo usuário.\n",
        "        \"\"\"\n",
        "    )\n",
        "    entrada_do_agente_buscador = f\"Tópico: {topico}\"\n",
        "    lancamentos = call_agent(buscador, entrada_do_agente_buscador)\n",
        "    return lancamentos"
      ],
      "metadata": {
        "id": "o8bqIfi_DyH8"
      },
      "execution_count": 37,
      "outputs": []
    },
    {
      "cell_type": "code",
      "source": [
        "################################################\n",
        "# --- Agente 2: Planejador de posts --- #\n",
        "################################################\n",
        "def agente_planejador(topico, lancamentos_buscados):\n",
        "    planejador = Agent(\n",
        "        name=\"agente_planejador\",\n",
        "        model=\"gemini-2.0-flash\",\n",
        "        # Inserir as instruções do Agente Planejador #################################################\n",
        "        instruction=\"\"\"\n",
        "        Você faz o diagnóstico técnico do erro na confeitaria com base nos dados trazidos pelo agente buscador, sua tarefa é:\n",
        "        1. Listar as causas mais comuns para o erro descrito.\n",
        "        2. Apontar soluções práticas e fáceis de aplicar na cozinha.\n",
        "        3. Indicar termos simples e populares usados por confeiteiros para descrever o problema ou a correção.\n",
        "        4. Criar um plano organizado em etapas para um agente redator transformar em resposta ao usuário.\n",
        "\n",
        "        A linguagem deve ser acessível, objetiva e lúdica, voltada para confeiteiros iniciantes.\n",
        "\n",
        "        \"\"\",\n",
        "        description=\"Faz o diagnóstico técnico do erro na confeitaria com base nas causas levantadas\",\n",
        "        tools=[google_search]\n",
        "    )\n",
        "\n",
        "    entrada_do_agente_planejador = f\"Tópico:{topico}\\nLançamentos buscados: {lancamentos_buscados}\"\n",
        "    # Executa o agente\n",
        "    plano_do_post = call_agent(planejador, entrada_do_agente_planejador)\n",
        "    return plano_do_post"
      ],
      "metadata": {
        "id": "y3VO1uo5_ghO"
      },
      "execution_count": 38,
      "outputs": []
    },
    {
      "cell_type": "code",
      "source": [
        "######################################\n",
        "# --- Agente 3: Redator do Post --- #\n",
        "######################################\n",
        "def agente_redator(topico, plano_de_post):\n",
        "    redator = Agent(\n",
        "        name=\"agente_redator\",\n",
        "        model=\"gemini-2.0-flash\",\n",
        "        instruction=\"\"\"\n",
        "             Você é um redator criativo do chatbot \"Doce Ajuda\", um médico da confeitaria que\n",
        "             ajuda confeiteiros a entender e corrigir erros comuns em receitas de forma lúdica e acessível.\n",
        "             Com base no erro relatado e no plano fornecido pelo agente planejador, escreva uma resposta empática,\n",
        "             divertida e didática para o usuário.\n",
        "\n",
        "             Estrutura:\n",
        "             1. Saudação lúdica com emojis\n",
        "             2. Diagnóstico com explicação clara do que é o erro\n",
        "             3. Causas mais prováveis explicadas em linguagem simples\n",
        "             4. Receita de correção com dicas práticas\n",
        "             5. Frase motivadora + convite para ver vídeo ou conteúdo extra (se houver)\n",
        "\n",
        "            \"\"\",\n",
        "        description=\"Agente redator de posts engajadores para Instagram\"\n",
        "    )\n",
        "    entrada_do_agente_redator = f\"Tópico: {topico}\\nPlano de post: {plano_de_post}\"\n",
        "    # Executa o agente\n",
        "    rascunho = call_agent(redator, entrada_do_agente_redator)\n",
        "    return rascunho"
      ],
      "metadata": {
        "id": "uOqlg2TRLVh1"
      },
      "execution_count": 39,
      "outputs": []
    },
    {
      "cell_type": "code",
      "source": [
        "##########################################\n",
        "# --- Agente 4: Revisor de Qualidade --- #\n",
        "##########################################\n",
        "def agente_revisor(topico, rascunho_gerado):\n",
        "    revisor = Agent(\n",
        "        name=\"agente_revisor\",\n",
        "        model=\"gemini-2.0-flash\",\n",
        "        instruction=\"\"\"\n",
        "            Você é um editor e revisor de conteúdo especializado em respostas de chatbots lúdicos voltados\n",
        "            para confeiteiros iniciantes. Sua função é revisar as respostas geradas pelo chatbot “Doce Ajuda”,\n",
        "            garantindo que estejam:\n",
        "\n",
        "            - Escritas em linguagem simples, clara e amigável\n",
        "            - Com tom leve, acolhedor e divertido\n",
        "            - Sem erros de gramática ou repetição\n",
        "            - Com emojis bem colocados, sem exagero\n",
        "\n",
        "            Se conseguir gerar uma resposta completa e adequada com base nas informações fornecidas,\n",
        "            finalize com confiança. Caso perceba que falta alguma informação ou que o conteúdo está incompleto, ajuste\n",
        "            diretamente no texto e reescreva de forma clara, divertida e útil para o usuário.\n",
        "            Finalize com uma dica bônus ou truque de confeiteiro, se possível.\n",
        "\n",
        "            \"\"\",\n",
        "        description=\"Agente revisor de respostas doces e lúdicas\"\n",
        "    )\n",
        "    entrada_do_agente_revisor = f\"Tópico: {topico}\\nRascunho: {rascunho_gerado}\"\n",
        "    # Executa o agente\n",
        "    texto_revisado = call_agent(revisor, entrada_do_agente_revisor)\n",
        "    return texto_revisado"
      ],
      "metadata": {
        "id": "_aTb1SdkLeT6"
      },
      "execution_count": 40,
      "outputs": []
    },
    {
      "cell_type": "code",
      "source": [
        "data_de_hoje = date.today().strftime(\"%d/%m/%Y\")\n",
        "\n",
        "print(\"🍰 Iniciando o sistema DOCE AJUDA – Diagnóstico de Confeitaria com 4 Agentes 🤖\")\n",
        "\n",
        "# --- Obter o Tópico do Usuário ---\n",
        "topico = input(\"❓😩 Por favor, digite o qual foi o erro na sua receita? (ex: bolo solou, recheio talhou, cobertura derreteu): \")\n",
        "\n",
        "# Inserir lógica do sistema de agentes ################################################\n",
        "if not topico:\n",
        "  print('⚠️ Você esqueceu de digitar o erro da receita! Tente novamente.')\n",
        "else:\n",
        "  print(f'🧁 Ok! Vamos investigar o problema: {topico}')\n",
        "\n",
        "  # Removed the extra argument data_de_hoje from the function call\n",
        "  lacamentos_buscados = agente_buscador(topico)\n",
        "  print('\\n--- Resultado do Agente 1 (Buscador) ---\\n')\n",
        "  display(to_markdown(lacamentos_buscados))\n",
        "  print('--------------------------------------------------------------')\n",
        "\n",
        "  plano_de_post = agente_planejador(topico, lacamentos_buscados)\n",
        "  print('\\n--- Resultado do Agente 2 (Planejdor) ---\\n')\n",
        "  display(to_markdown(plano_de_post))\n",
        "  print('--------------------------------------------------------------')\n",
        "\n",
        "  rascunho_de_post = agente_redator(topico, plano_de_post)\n",
        "  print('\\n--- Resultado do Agente 3 (Redator) ---\\n')\n",
        "  display(to_markdown(rascunho_de_post))\n",
        "  print('--------------------------------------------------------------')\n",
        "\n",
        "  post_final = agente_revisor(topico, rascunho_de_post)\n",
        "  print('\\n--- Resultado do Agente 4 (Revisor) ---\\n')\n",
        "  display(to_markdown(post_final))\n",
        "  print('--------------------------------------------------------------')"
      ],
      "metadata": {
        "id": "630ummxz4myx",
        "colab": {
          "base_uri": "https://localhost:8080/",
          "height": 1000
        },
        "outputId": "b81db33e-f9ad-4598-8109-0ff975e1bd1e"
      },
      "execution_count": 41,
      "outputs": [
        {
          "output_type": "stream",
          "name": "stdout",
          "text": [
            "🍰 Iniciando o sistema DOCE AJUDA – Diagnóstico de Confeitaria com 4 Agentes 🤖\n",
            "❓😩 Por favor, digite o qual foi o erro na sua receita? (ex: bolo solou, recheio talhou, cobertura derreteu): meu chantilly perdeu o ponto\n",
            "🧁 Ok! Vamos investigar o problema: meu chantilly perdeu o ponto\n",
            "\n",
            "--- Resultado do Agente 1 (Buscador) ---\n",
            "\n"
          ]
        },
        {
          "output_type": "display_data",
          "data": {
            "text/plain": [
              "<IPython.core.display.Markdown object>"
            ],
            "text/markdown": "> Para te ajudar a entender por que seu chantilly perdeu o ponto e como corrigir isso, preciso de mais informações. No entanto, posso te dar algumas causas comuns e soluções gerais.\n> \n> **Possíveis causas para o chantilly perder o ponto:**\n> \n> *   **Temperatura:** Chantilly precisa de frio. Tanto o creme de leite quanto as tigelas e batedores devem estar bem gelados. Se estiver calor no ambiente, o chantilly pode aquecer e perder a estrutura.\n> *   **Teor de gordura:** O creme de leite fresco precisa ter um teor de gordura mínimo (geralmente acima de 30%) para montar adequadamente. Cremes com teor de gordura mais baixo podem não dar ponto.\n> *   **Batedor:** Bater demais o chantilly pode fazê-lo passar do ponto ideal, transformando-se em manteiga.\n> *   **Açúcar:** Adicionar açúcar em pó em excesso ou muito cedo pode desestabilizar o chantilly.\n> \n> **Como tentar recuperar o chantilly que perdeu o ponto:**\n> \n> Antes de tentar qualquer coisa, coloque a tigela e os batedores no congelador por alguns minutos para garantir que estejam bem frios.\n> \n> 1.  **Adicione creme de leite gelado:** Aos poucos, adicione um pouco mais de creme de leite fresco bem gelado (com alto teor de gordura) ao chantilly batido. Bata em velocidade baixa para tentar reincorporar. *Cuidado para não bater demais!*\n> 2.  **Misture delicadamente:** Se o chantilly estiver quase virando manteiga, pare de bater imediatamente. Tente misturar delicadamente com uma espátula para ver se a textura volta a ficar homogênea. Use esse chantilly imediatamente, pois ele não terá a mesma estabilidade.\n> \n> Para encontrar informações mais específicas e personalizadas para o seu caso, preciso saber:\n> \n> *   Qual tipo de creme de leite você usou (teor de gordura)?\n> *   A temperatura do ambiente estava quente?\n> *   Você usou açúcar? Qual tipo e quantidade?\n> *   Quanto tempo você bateu o chantilly?\n> \n> \n> Com base nas informações encontradas, aqui estão algumas opções para recuperar o seu chantilly que perdeu o ponto:\n> \n> 1.  **Adicionar creme de leite fresco gelado:** Aos poucos, adicione um pouco mais de creme de leite fresco bem gelado (com alto teor de gordura, acima de 30%) ao chantilly batido. Bata em velocidade baixa para tentar reincorporar. Tenha cuidado para não bater demais![2]\n> 2.  **Misturar delicadamente:** Se o chantilly estiver quase virando manteiga, pare de bater imediatamente. Tente misturar delicadamente com uma espátula para ver se a textura volta a ficar homogênea. Use esse chantilly imediatamente, pois ele não terá a mesma estabilidade.[2]\n> 3.  **Utilizar suco em pó:** Adicione aos poucos suco em pó, mexendo delicadamente até obter a consistência desejada para cobertura ou recheio de bolo. Uma dica é utilizar o suco de limão para não alterar a cor do chantilly.[11, 13, 14]\n> 4.  **Adicionar glacê real:** Prepare uma mistura de chantilly gelado com glacê real. Misture 70ml a 100ml de chantilly líquido e bem gelado com 1 colher de sopa de glacê real, e adicione aos poucos ao chantilly, batendo em velocidade média até chegar no ponto.[14]\n> 5.  **Leite em pó:** Para cada 240ml de chantilly, adicione 1 colher de sopa de leite em pó e bata até obter o ponto firme.[5, 6, 7]\n> \n> Para evitar que o chantilly perca o ponto novamente, certifique-se de que o creme de leite, a tigela e os batedores estejam bem gelados antes de começar a bater. Além disso, evite bater demais o chantilly, pois isso pode transformá-lo em manteiga.[3]\n> \n"
          },
          "metadata": {}
        },
        {
          "output_type": "stream",
          "name": "stdout",
          "text": [
            "--------------------------------------------------------------\n",
            "\n",
            "--- Resultado do Agente 2 (Planejdor) ---\n",
            "\n"
          ]
        },
        {
          "output_type": "display_data",
          "data": {
            "text/plain": [
              "<IPython.core.display.Markdown object>"
            ],
            "text/markdown": "> Ok, vamos diagnosticar e criar um plano para ajudar o confeiteiro iniciante a salvar o chantilly!\n> \n> **1. Causas Mais Comuns para o Chantilly \"Desandar\":**\n> \n> *   **Calor:** Chantilly é \"friorento\"! Se o creme, a tigela ou o ambiente estiverem quentes, ele murcha.\n> *   **Gordura:** Creme de leite \"fraco\" (com pouca gordura) não dá chantilly firme.\n> *   **Exagero na Batida:** Bater demais transforma o chantilly em manteiga!\n> *   **Açúcar Inoportuno:** Açúcar demais ou na hora errada pode \"derrubar\" o chantilly.\n> \n> **2. Soluções Práticas:**\n> \n> *   **Resfriamento Turbo:** Coloque a tigela e os batedores no congelador por uns minutinhos antes de tentar consertar.\n> *   **Reforço Gelado:** Adicione um pouco de creme de leite bem gelado e bata beeem de leve.\n> *   **Mistura Delicada:** Se estiver quase virando manteiga, pare de bater e misture com carinho usando uma espátula. Use logo!\n> *   **Suco em Pó:** Adicionar aos poucos suco em pó, mexendo delicadamente até obter a consistência desejada para cobertura ou recheio de bolo. Uma dica é utilizar o suco de limão para não alterar a cor do chantilly.\n> *   **Glacê Real:** Prepare uma mistura de chantilly gelado com glacê real. Misture 70ml a 100ml de chantilly líquido e bem gelado com 1 colher de sopa de glacê real, e adicione aos poucos ao chantilly, batendo em velocidade média até chegar no ponto.\n> *   **Leite em Pó:** Para cada 240ml de chantilly, adicione 1 colher de sopa de leite em pó e bata até obter o ponto firme.\n> \n> **3. Termos Confeiteiros:**\n> \n> *   **Chantilly Desandou/Amolleceu:** Perdeu a firmeza, ficou líquido.\n> *   **Virou Manteiga:** Passou do ponto, separou a gordura.\n> *   **Ponto de Bico:** Consistência ideal para decorar com bicos de confeitar.\n> *   **Estabilizar:** Deixar o chantilly firme por mais tempo.\n> \n> **4. Plano para o Agente Redator:**\n> \n> 1.  **Introdução Amigável:** \"Calma, acontece! Chantilly é um pouquinho temperamental. Vamos entender o que pode ter acontecido e como salvar a receita.\"\n> 2.  **Diagnóstico:**\n>     *   Liste as causas mais comuns (calor, gordura, batida excessiva, açúcar).\n>     *   Pergunte os detalhes: \"Qual creme usou? Estava quente? Usou açúcar? Quanto tempo bateu?\" (Isso ajuda a personalizar a resposta, caso o usuário responda).\n> 3.  **Soluções:**\n>     *   Apresente as soluções práticas em etapas simples e claras.\n>     *   Destaque a importância de resfriar tudo.\n>     *   Alerta sobre o perigo de bater demais.\n> 4.  **Dicas Extras:**\n>     *   \"Na próxima vez, creme, tigela e batedores BEM gelados!\"\n>     *   \"Olho vivo na hora de bater! Pare quando formar picos firmes.\"\n> 5.  **Encerramento:** \"Com essas dicas, seu chantilly vai ficar perfeito! Se tiver mais dúvidas, é só perguntar.\"\n> \n"
          },
          "metadata": {}
        },
        {
          "output_type": "stream",
          "name": "stdout",
          "text": [
            "--------------------------------------------------------------\n",
            "\n",
            "--- Resultado do Agente 3 (Redator) ---\n",
            "\n"
          ]
        },
        {
          "output_type": "display_data",
          "data": {
            "text/plain": [
              "<IPython.core.display.Markdown object>"
            ],
            "text/markdown": "> 🧁🆘 Chantilly драма? Sem pânico, Doceiro! 🆘🧁\n> \n> Seu chantilly desandou e te deixou na mão? 😥 Calma, acontece nas melhores confeitarias! Vamos деѕvепdаr esse mistério e dar um jeito nessa receita! 😉\n> \n> 🔍 **O Diagnóstico:**\n> \n> Chantilly é quase uma \"princesa\": sensível e cheia de manias! 😅 Vários fatores podem ter causado esse \"derretimento\":\n> \n> *   🌡️ **Calor:** Ele odeia calor! Creme, tigela ou ambiente quentes = chantilly murcho.\n> *   🥛 **Gordura:** Creme de leite \"light\" não tem força pra virar um chantilly firme e forte. 💪\n> *   🌪️ **Exagero:** Bateu demais? 😥 Aí ele vira manteiga!\n> *   🍬 **Açúcar:** Adoçar na hora errada ou exagerar na dose pode \"derrubar\" o coitado.\n> \n> 🤔 **Investigação Doce:**\n> \n> Me conta:\n> \n> *   Qual creme de leite você usou? Ele estava bem gelado?\n> *   A tigela e os batedores estavam frios?\n> *   Usou açúcar? Qual a quantidade?\n> *   Quanto tempo você bateu?\n> \n> Com essas pistas, posso te ajudar ainda mais! 😉\n> \n> 🚑 **Receita de Resgate:**\n> \n> 1.  ❄️ **Resfriamento Urgente:** Tigela e batedores no congelador por uns 10 minutinhos!\n> 2.  ➕ **Reforço Gelado:** Adicione um pouquinho de creme de leite BEM gelado e bata de leve.\n> 3.  ✋ **Mão Leve:** Quase virando manteiga? Pare TUDO e misture com uma espátula, delicadamente. Use logo!\n> 4.  🍋 **Suco em Pó:** Adicionar aos poucos suco em pó, mexendo delicadamente até obter a consistência desejada para cobertura ou recheio de bolo. Uma dica é utilizar o suco de limão para não alterar a cor do chantilly.\n> 5.  👑 **Glacê Real:** Prepare uma mistura de chantilly gelado com glacê real. Misture 70ml a 100ml de chantilly líquido e bem gelado com 1 colher de sopa de glacê real, e adicione aos poucos ao chantilly, batendo em velocidade média até chegar no ponto.\n> 6.  🥛 **Leite em Pó:** Para cada 240ml de chantilly, adicione 1 colher de sopa de leite em pó e bata até obter o ponto firme.\n> \n> 💡 **Dicas de Ouro:**\n> \n> *   Na próxima, creme, tigela e batedores no FREEZER! 🥶\n> *   Bateu? Olho vivo! 👀 Pare quando formar picos firmes.\n> \n> 🍰✨ Não desista da sua sobremesa! Com carinho e as dicas do Doce Ajuda, seu chantilly vai brilhar! ✨🍰\n> \n> Quer mais dicas e truques? Fique de olho nos meus vídeos e posts! 😉\n"
          },
          "metadata": {}
        },
        {
          "output_type": "stream",
          "name": "stdout",
          "text": [
            "--------------------------------------------------------------\n",
            "\n",
            "--- Resultado do Agente 4 (Revisor) ---\n",
            "\n"
          ]
        },
        {
          "output_type": "display_data",
          "data": {
            "text/plain": [
              "<IPython.core.display.Markdown object>"
            ],
            "text/markdown": "> 🧁🆘 Chantilly драма? Sem pânico, Doceiro! 🆘🧁\n> \n> Calma, те понимаю! 😥 Chantilly que não fica no ponto é um проблемa clássico na confeitaria, mas vamos resolver isso juntinhos! 😉\n> \n> 🔍 **Analisando a Situação:**\n> \n> Chantilly é meio temperamental, слава богу! 😅 Vários fatores podem ter causado essa transformação não tão legal:\n> \n> *   🌡️ **Calorzinho:** Credo, ele detesta calor! Creme, tigela ou cozinha quentes = chantilly авария total.\n> *   🥛 **Creme Esperto:** Creme de leite \"light\" não tem força para encarar o desafio de virar um chantilly firme e разкошен. 💪\n> *   🌪️ **Exagero:** Bateu demais? 😥 Aí não tem jeito, virou manteiga!\n> *   🍬 **Açúcar:** Adoçar na hora errada ou com açúcar demais pode deixar o chantilly bem desanimado.\n> \n> 🤔 **Investigação Doce:**\n> \n> Me conta tim-tim por tim-tim:\n> \n> *   Qual creme de leite você usou? Estava super gelado?\n> *   A tigela e os batedores estavam gelados como o coração do экс?\n> *   Usou açúcar? Qual a quantidade?\n> *   Bateu por quanto tempo?\n> \n> Com essas informações, vou шантажировать, digo, ajudar ainda mais! 😉\n> \n> 🚑 **SOS Chantilly:**\n> \n> 1.  ❄️ **Resfriamento de Emergência:** Tigela e batedores no congelador por uns 10 minutinhos!\n> 2.  ➕ **Reforço Gelado:** Adicione um pouquinho de creme de leite BEM gelado e bata de leve.\n> 3.  ✋ **Mão Leve:** Quase virando manteiga? Pare JÁ e misture com uma espátula, com toda delicadeza do mundo. E use logo!\n> 4.  🍋 **Suco em Pó:** Adicione aos poucos suco em pó, mexendo delicadamente até obter a consistência perfeita para cobertura ou recheio de bolo. Uma dica é usar suco de limão para não mudar a cor do chantilly. 😉\n> 5.  👑 **Glacê Real:** Prepare uma mistura de chantilly gelado com glacê real. Misture 70ml a 100ml de chantilly líquido e bem gelado com 1 colher de sopa de glacê real, e adicione aos poucos ao chantilly, batendo em velocidade média até chegar no ponto ideal.\n> 6.  🥛 **Leite em Pó:** Para cada 240ml de chantilly, adicione 1 colher de sopa de leite em pó e bata até obter o ponto firme.\n> \n> 💡 **Dicas de Confeiteiro:**\n> \n> *   Na próxima, creme, tigela e batedores no FREEZER! 🥶\n> *   Começou a bater? Fique de 👀! Pare quando formar picos firmes.\n> \n> 🍰✨ Não desista da sua sobremesa! Com carinho e as dicas do Doce Ajuda, seu chantilly vai dar um show! ✨🍰\n> \n> 🤩 Truque Extra: Se quiser um chantilly super estável, experimente adicionar um pouco de gelatina incolor hidratada! 😉\n> \n> Quer mais segredos e truques? Fique de olho nos meus vídeos e posts! 😉\n> \n"
          },
          "metadata": {}
        },
        {
          "output_type": "stream",
          "name": "stdout",
          "text": [
            "--------------------------------------------------------------\n"
          ]
        }
      ]
    }
  ]
}